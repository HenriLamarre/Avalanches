{
 "cells": [
  {
   "cell_type": "code",
   "execution_count": 43,
   "id": "6797fab8",
   "metadata": {},
   "outputs": [],
   "source": [
    "import numpy as np\n",
    "import matplotlib.pyplot as plt\n",
    "import copy"
   ]
  },
  {
   "cell_type": "code",
   "execution_count": 33,
   "id": "8e4b7e19",
   "metadata": {},
   "outputs": [],
   "source": [
    "data = np.load('./Saves/N32_F_32.npz')['lat_B']\n",
    "curv = np.zeros((32, 32)) \n",
    "curv[1:-1, 1:-1] = data[1:-1, 1:-1] - 1 / 4 * (data[1:-1, 0:-2] + data[1:-1, 2:] +\n",
    "                                                     data[0:-2, 1:-1] + data[2:, 1:-1])"
   ]
  },
  {
   "cell_type": "code",
   "execution_count": 39,
   "id": "14247493",
   "metadata": {},
   "outputs": [
    {
     "data": {
      "text/plain": [
       "<matplotlib.image.AxesImage at 0x7f7fb5d4f6a0>"
      ]
     },
     "execution_count": 39,
     "metadata": {},
     "output_type": "execute_result"
    },
    {
     "data": {
      "image/png": "[encoded data removed]",
      "text/plain": [
       "<Figure size 288x288 with 1 Axes>"
      ]
     },
     "metadata": {
      "needs_background": "light"
     },
     "output_type": "display_data"
    },
    {
     "data": {
      "image/png": "[encoded data removed]",
      "text/plain": [
       "<Figure size 288x288 with 1 Axes>"
      ]
     },
     "metadata": {
      "needs_background": "light"
     },
     "output_type": "display_data"
    }
   ],
   "source": [
    "plt.matshow(data)\n",
    "plt.matshow(curv)"
   ]
  },
  {
   "cell_type": "code",
   "execution_count": 46,
   "id": "7e6a4678",
   "metadata": {},
   "outputs": [],
   "source": [
    "i,j = 1,1\n",
    "Zc=1"
   ]
  },
  {
   "cell_type": "code",
   "execution_count": null,
   "id": "77261939",
   "metadata": {},
   "outputs": [],
   "source": [
    "def current(lattice, pos):\n",
    "    \"\"\" Computes the electric current J at a lattice point i,j \"\"\"\n",
    "    i = pos[0]\n",
    "    j = pos[1]\n",
    "    if i == 0:  # These conditions check if the point we are looking is near an edge\n",
    "        a = 0\n",
    "    else:\n",
    "        a = lattice[i - 1, j]\n",
    "    if i == self.n-1:\n",
    "        b = 0\n",
    "    else:\n",
    "        b = lattice[i+1, j]\n",
    "    if j == 0:\n",
    "        c = 0\n",
    "    else:\n",
    "        c = lattice[i, j-1]\n",
    "    if j == self.n-1:\n",
    "        d = 0\n",
    "    else:\n",
    "        d = lattice[i, j+1]\n",
    "    return 4*lattice[i, j] - a - b - c - d  # Computes the current using a derivative approximation"
   ]
  },
  {
   "cell_type": "code",
   "execution_count": 49,
   "id": "f204bcfc",
   "metadata": {},
   "outputs": [
    {
     "ename": "NameError",
     "evalue": "name 'current' is not defined",
     "output_type": "error",
     "traceback": [
      "\u001b[0;31m---------------------------------------------------------------------------\u001b[0m",
      "\u001b[0;31mNameError\u001b[0m                                 Traceback (most recent call last)",
      "Input \u001b[0;32mIn [49]\u001b[0m, in \u001b[0;36m<cell line: 8>\u001b[0;34m()\u001b[0m\n\u001b[1;32m      6\u001b[0m directions \u001b[38;5;241m=\u001b[39m np\u001b[38;5;241m.\u001b[39marray([[i \u001b[38;5;241m-\u001b[39m \u001b[38;5;241m1\u001b[39m, j], [i, j \u001b[38;5;241m+\u001b[39m \u001b[38;5;241m1\u001b[39m], [i \u001b[38;5;241m+\u001b[39m \u001b[38;5;241m1\u001b[39m, j], [i, j \u001b[38;5;241m-\u001b[39m \u001b[38;5;241m1\u001b[39m]])\n\u001b[1;32m      7\u001b[0m np\u001b[38;5;241m.\u001b[39mrandom\u001b[38;5;241m.\u001b[39mshuffle(directions[\u001b[38;5;241m0\u001b[39m:\u001b[38;5;241m4\u001b[39m])                   \n\u001b[0;32m----> 8\u001b[0m theta \u001b[38;5;241m=\u001b[39m \u001b[38;5;241m-\u001b[39mr1\u001b[38;5;241m*\u001b[39m\u001b[43mcurrent\u001b[49m(data, directions[\u001b[38;5;241m0\u001b[39m]) \u001b[38;5;241m-\u001b[39m\\\n\u001b[1;32m      9\u001b[0m         r2\u001b[38;5;241m*\u001b[39mcurrent(data, directions[\u001b[38;5;241m1\u001b[39m]) \u001b[38;5;241m-\u001b[39m\\\n\u001b[1;32m     10\u001b[0m         r3\u001b[38;5;241m*\u001b[39mcurrent(data, directions[\u001b[38;5;241m2\u001b[39m]) \u001b[38;5;241m+\u001b[39m a\u001b[38;5;241m*\u001b[39mcurrent(data, directions[\u001b[38;5;241m3\u001b[39m])\n\u001b[1;32m     11\u001b[0m x \u001b[38;5;241m=\u001b[39m (\u001b[38;5;241m3.2\u001b[39m\u001b[38;5;241m*\u001b[39m(r1\u001b[38;5;241m*\u001b[39m\u001b[38;5;241m*\u001b[39m\u001b[38;5;241m2\u001b[39m\u001b[38;5;241m+\u001b[39mr2\u001b[38;5;241m*\u001b[39m\u001b[38;5;241m*\u001b[39m\u001b[38;5;241m2\u001b[39m\u001b[38;5;241m+\u001b[39mr3\u001b[38;5;241m*\u001b[39m\u001b[38;5;241m*\u001b[39m\u001b[38;5;241m2\u001b[39m)\u001b[38;5;241m*\u001b[39mZc \u001b[38;5;241m-\u001b[39m a\u001b[38;5;241m*\u001b[39mtheta)\u001b[38;5;241m/\u001b[39m(theta \u001b[38;5;241m+\u001b[39m \u001b[38;5;241m3.2\u001b[39m\u001b[38;5;241m*\u001b[39mZc\u001b[38;5;241m*\u001b[39ma)\n\u001b[1;32m     12\u001b[0m energy_calc_lattice \u001b[38;5;241m=\u001b[39m copy\u001b[38;5;241m.\u001b[39mdeepcopy(data)\n",
      "\u001b[0;31mNameError\u001b[0m: name 'current' is not defined"
     ]
    }
   ],
   "source": [
    "rs = np.random.uniform(0, 1, size=(3, 1))[:,0]\n",
    "r1 = rs[0]\n",
    "r2 = rs[1]\n",
    "r3 = rs[2]\n",
    "a = np.sum(rs)\n",
    "directions = np.array([[i - 1, j], [i, j + 1], [i + 1, j], [i, j - 1]])\n",
    "np.random.shuffle(directions[0:4])                   \n",
    "theta = -r1*current(data, directions[0]) -\\\n",
    "        r2*current(data, directions[1]) -\\\n",
    "        r3*current(data, directions[2]) + a*current(data, directions[3])\n",
    "x = (3.2*(r1**2+r2**2+r3**2)*Zc - a*theta)/(theta + 3.2*Zc*a)\n",
    "energy_calc_lattice = copy.deepcopy(data)\n",
    "energy_calc_lattice[i, j] -= 4 / 5 * Zc\n",
    "energy_calc_lattice[directions[2][0], directions[2][1]] += 4 / 5 * Zc * rs[0] / (x+a)\n",
    "energy_calc_lattice[directions[1][0], directions[1][1]] += 4 / 5 * Zc * rs[1] / (x+a)\n",
    "energy_calc_lattice[directions[0][0], directions[0][1]] += 4 / 5 * Zc * rs[2] / (x+a)\n",
    "energy_calc_lattice[directions[3][0], directions[3][1]] += 4 / 5 * Zc * x / (x+a)"
   ]
  },
  {
   "cell_type": "code",
   "execution_count": null,
   "id": "fb9fdb69",
   "metadata": {},
   "outputs": [],
   "source": []
  }
 ],
 "metadata": {
  "kernelspec": {
   "display_name": "Python 3 (ipykernel)",
   "language": "python",
   "name": "python3"
  },
  "language_info": {
   "codemirror_mode": {
    "name": "ipython",
    "version": 3
   },
   "file_extension": ".py",
   "mimetype": "text/x-python",
   "name": "python",
   "nbconvert_exporter": "python",
   "pygments_lexer": "ipython3",
   "version": "3.8.8"
  }
 },
 "nbformat": 4,
 "nbformat_minor": 5
}
