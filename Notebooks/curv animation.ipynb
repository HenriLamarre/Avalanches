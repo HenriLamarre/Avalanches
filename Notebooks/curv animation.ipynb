{
 "cells": [
  {
   "cell_type": "code",
   "execution_count": 38,
   "id": "b7af28ec",
   "metadata": {},
   "outputs": [],
   "source": [
    "import numpy as np\n",
    "import matplotlib.pyplot as plt\n",
    "import matplotlib\n",
    "import matplotlib.animation as animation\n",
    "import scipy\n",
    "import copy"
   ]
  },
  {
   "cell_type": "code",
   "execution_count": 3,
   "id": "90386ca4",
   "metadata": {},
   "outputs": [],
   "source": [
    "curvs = np.load('./Saves/N32_Farhang_curvs.npz')['curvs']"
   ]
  },
  {
   "cell_type": "code",
   "execution_count": 4,
   "id": "9efa97be",
   "metadata": {},
   "outputs": [
    {
     "data": {
      "text/plain": [
       "<Figure size 432x288 with 0 Axes>"
      ]
     },
     "metadata": {},
     "output_type": "display_data"
    },
    {
     "data": {
      "image/png": "[encoded data removed]",
      "text/plain": [
       "<Figure size 288x288 with 1 Axes>"
      ]
     },
     "metadata": {
      "needs_background": "light"
     },
     "output_type": "display_data"
    }
   ],
   "source": [
    "plt.figure()\n",
    "plt.matshow(curvs[0])\n",
    "plt.show()"
   ]
  },
  {
   "cell_type": "code",
   "execution_count": 12,
   "id": "08259d23",
   "metadata": {},
   "outputs": [],
   "source": [
    "def make_movie(img):\n",
    "    ''' Makes a movie mp4 with the supplied frames in img\n",
    "    img is a list of 2d arrays to be displayed using plt.imshow'''\n",
    "    frames = [] # for storing the generated images\n",
    "    fig = plt.figure()\n",
    "    for i in range(len(img)):\n",
    "        frames.append([plt.imshow(img[i])])\n",
    "\n",
    "    ani = animation.ArtistAnimation(fig, frames, interval=200, blit=True,\n",
    "                                    repeat_delay=1000)\n",
    "    ani.save('avalanche.wav')\n",
    "    plt.show()"
   ]
  },
  {
   "cell_type": "code",
   "execution_count": 113,
   "id": "c009fef4",
   "metadata": {},
   "outputs": [
    {
     "data": {
      "text/plain": [
       "<matplotlib.image.AxesImage at 0x7f9f1a300d60>"
      ]
     },
     "execution_count": 113,
     "metadata": {},
     "output_type": "execute_result"
    },
    {
     "data": {
      "image/png": "[encoded data removed]",
      "text/plain": [
       "<Figure size 288x288 with 1 Axes>"
      ]
     },
     "metadata": {
      "needs_background": "light"
     },
     "output_type": "display_data"
    }
   ],
   "source": [
    "lat_B = np.load('/home/hlamarre/PycharmProjects/Avalanches/Saves/N10_Farhang.npz')['lat_B']\n",
    "\n",
    "plt.matshow(lat_B)"
   ]
  },
  {
   "cell_type": "code",
   "execution_count": 114,
   "id": "fb1fbee0",
   "metadata": {},
   "outputs": [],
   "source": [
    "def curvature(lattice):\n",
    "    curv = np.zeros((10,10))  # curvature of the lattice initialization\n",
    "    curv[1:-1, 1:-1] = lattice[1:-1, 1:-1] - 1 / 4 * (lattice[1:-1, 0:-2] + lattice[1:-1, 2:] +\n",
    "                                lattice[0:-2, 1:-1] + lattice[2:, 1:-1])  # curvature computation\n",
    "    return curv"
   ]
  },
  {
   "cell_type": "code",
   "execution_count": 199,
   "id": "ceb49a96",
   "metadata": {},
   "outputs": [],
   "source": [
    "def current(lattice, i, j):\n",
    "    \"\"\" Computes the electric current J at a lattice point i,j \"\"\"\n",
    "    if i == 0:  # These conditions check if the point we are looking is near an edge\n",
    "        a = 0\n",
    "    else:\n",
    "        a = lattice[i - 1, j]\n",
    "    if i == 9:\n",
    "        b = 0\n",
    "    else:\n",
    "        b = lattice[i+1, j]\n",
    "    if j == 0:\n",
    "        c = 0\n",
    "    else:\n",
    "        c = lattice[i, j-1]\n",
    "    if j == 9:\n",
    "        d = 0\n",
    "    else:\n",
    "        d = lattice[i, j+1]\n",
    "    return 4*lattice[i, j] - a - b - c - d  # Computes the current using a derivative approximation\n",
    "def opt_x(x, Zc, r1, r2, r3, theta):\n",
    "    \"\"\" Function that defines x, the optimization parameter. Is used in root finding. \"\"\"\n",
    "    a = r1 + r2 + r3\n",
    "    return (Zc * (r1**2 + r2**2 + r3**2 - a * x) - 5 / 32 * a * theta) / (5 / 32 * theta + a * Zc) - x\n",
    "def opt_x2(x, Zc, r1, r2, r3, theta):\n",
    "    \"\"\" Function that defines x, the optimization parameter. Is used in root finding. \"\"\"\n",
    "    a = r1 + r2 + r3\n",
    "    x = np.abs(x)\n",
    "    return (Zc * (r1**2 + r2**2 + r3**2 - a * x) - 5 / 32 * a * theta) / (5 / 32 * theta + a * Zc) - x\n",
    "def e_total(lattice):\n",
    "    \"\"\" Returns the total energy of a specified lattice \"\"\"\n",
    "    return np.sum(1/2*np.multiply(lattice[1:-1, 1:-1],\n",
    "                                  4*lattice[1:-1, 1:-1] - lattice[1:-1, :-2] -\n",
    "                                  lattice[2:, 1:-1] - lattice[1:-1, 2:] - lattice[:-2, 1:-1]))\n",
    "def energy_point(lat,i,j):\n",
    "    J = 4*lat[i,j] - lat[i,j+1] - lat[i,j-1] - lat[i-1,j] - lat[i+1,j]\n",
    "    return 1/2*lat[i,j]*J"
   ]
  },
  {
   "cell_type": "code",
   "execution_count": 204,
   "id": "f48a76e6",
   "metadata": {},
   "outputs": [
    {
     "name": "stdout",
     "output_type": "stream",
     "text": [
      "[25.48591386] [0.87938582] [0.5424373] [0.34925121]\n",
      "[-0.77923189] [1.01255695e-05] [2.44571654e+11]\n"
     ]
    }
   ],
   "source": [
    "i = 3\n",
    "j = 4\n",
    "[r1, r2, r3] = np.random.uniform(0, 1, size=(3, 1))  # Stochastic redistribution\n",
    "a = r1 + r2 + r3\n",
    "# Theta is used in finding x that minimizes lattice energy\n",
    "theta = r1 * (-2 * current(lat_B, i, j - 1) + 3 * lat_B[i, j - 1]) + \\\n",
    "        r2 * (-2 * current(lat_B, i + 1, j) + 3 * lat_B[i + 1, j]) + \\\n",
    "        r3 * (-2 * current(lat_B, i, j + 1) + 3 * lat_B[i, j + 1]) + \\\n",
    "        a * (2 * current(lat_B, i - 1, j) - 3 * lat_B[i - 1, j])\n",
    "print(theta, r1, r2, r3)\n",
    "Zc = 1\n",
    "result = scipy.optimize.root(opt_x, 1, args=(Zc, r1, r2, r3, theta))['x']\n",
    "result2 = scipy.optimize.root(opt_x2, 1, args=(Zc, r1, r2, r3, theta))['x']\n",
    "result3 = scipy.optimize.minimize(opt_x, 1, args=(Zc, r1, r2, r3, theta))['x']\n",
    "print(result, result2, result3)\n",
    "# new_lat = copy.deepcopy(lat_B)\n",
    "# new_lat[i, j] -= 4 / 5 * Zc\n",
    "# new_lat[i, j - 1] += 4 / 5 * r1 / (x + a) * Zc\n",
    "# new_lat[i, j + 1] += 4 / 5 * r3 / (x + a) * Zc\n",
    "# new_lat[i - 1, j] += 4 / 5 * x / (x + a) * Zc\n",
    "# new_lat[i + 1, j] += 4 / 5 * r2 / (x + a) * Zc"
   ]
  },
  {
   "cell_type": "code",
   "execution_count": 195,
   "id": "a043af02",
   "metadata": {},
   "outputs": [
    {
     "ename": "NameError",
     "evalue": "name 'lplt' is not defined",
     "output_type": "error",
     "traceback": [
      "\u001b[0;31m---------------------------------------------------------------------------\u001b[0m",
      "\u001b[0;31mNameError\u001b[0m                                 Traceback (most recent call last)",
      "\u001b[0;32m<ipython-input-195-d4f1c8e3af62>\u001b[0m in \u001b[0;36m<module>\u001b[0;34m\u001b[0m\n\u001b[1;32m      1\u001b[0m \u001b[0mplt\u001b[0m\u001b[0;34m.\u001b[0m\u001b[0mmatshow\u001b[0m\u001b[0;34m(\u001b[0m\u001b[0mcurvature\u001b[0m\u001b[0;34m(\u001b[0m\u001b[0mlat_B\u001b[0m\u001b[0;34m)\u001b[0m\u001b[0;34m)\u001b[0m\u001b[0;34m\u001b[0m\u001b[0;34m\u001b[0m\u001b[0m\n\u001b[0;32m----> 2\u001b[0;31m \u001b[0mlplt\u001b[0m\u001b[0;34m.\u001b[0m\u001b[0mmatshow\u001b[0m\u001b[0;34m(\u001b[0m\u001b[0mcurvature\u001b[0m\u001b[0;34m(\u001b[0m\u001b[0mnew_lat\u001b[0m\u001b[0;34m)\u001b[0m\u001b[0;34m)\u001b[0m\u001b[0;34m\u001b[0m\u001b[0;34m\u001b[0m\u001b[0m\n\u001b[0m",
      "\u001b[0;31mNameError\u001b[0m: name 'lplt' is not defined"
     ]
    },
    {
     "data": {
      "image/png": "[encoded data removed]",
      "text/plain": [
       "<Figure size 288x288 with 1 Axes>"
      ]
     },
     "metadata": {
      "needs_background": "light"
     },
     "output_type": "display_data"
    }
   ],
   "source": [
    "plt.matshow(curvature(lat_B))\n",
    "plt.matshow(curvature(new_lat))"
   ]
  },
  {
   "cell_type": "code",
   "execution_count": 188,
   "id": "f33fe525",
   "metadata": {},
   "outputs": [
    {
     "name": "stdout",
     "output_type": "stream",
     "text": [
      "    fjac: array([[-1.]])\n",
      "     fun: array([0.])\n",
      " message: 'The solution converged.'\n",
      "    nfev: 5\n",
      "     qtf: array([1.11022302e-16])\n",
      "       r: array([1.30482211])\n",
      "  status: 1\n",
      " success: True\n",
      "       x: array([-0.84478633])\n",
      "1.2992442872350694\n"
     ]
    }
   ],
   "source": [
    "[r1, r2, r3] = np.random.uniform(0, 1, size=(3, 1))  # Stochastic redistribution\n",
    "a = r1 + r2 + r3\n",
    "#Theta is used in finding x that minimizes lattice energy\n",
    "theta = r1 * (-2 * current(lat_B, i, j - 1) + 3 * lat_B[i, j - 1]) + \\\n",
    "        r2 * (-2 * current(lat_B, i + 1, j) + 3 * lat_B[i + 1, j]) + \\\n",
    "        r3 * (-2 * current(lat_B, i, j + 1) + 3 * lat_B[i, j + 1]) + \\\n",
    "        a * (2 * current(lat_B, i - 1, j) - 3 * lat_B[i - 1, j])\n",
    "Zc = 1\n",
    "result = scipy.optimize.root(opt_x, 1, args=(Zc, r1, r2, r3, theta))\n",
    "x = result['x'][0]\n",
    "print(result)\n",
    "# print(opt_x(x, Zc, r1, r2, r3, theta))\n",
    "# print(x)\n",
    "new_lat = copy.deepcopy(lat_B)\n",
    "new_lat[i, j] -= 4 / 5 * Zc\n",
    "new_lat[i, j - 1] += 4 / 5 * r1 / (x+a) * Zc\n",
    "new_lat[i, j + 1] += 4 / 5 * r3 / (x+a) * Zc\n",
    "new_lat[i - 1, j] += 4 / 5 * x / (x+a) * Zc\n",
    "new_lat[i + 1, j] += 4 / 5 * r2 / (x+a) * Zc\n",
    "print(e_total(new_lat) - e_total(lat_B))"
   ]
  },
  {
   "cell_type": "code",
   "execution_count": 133,
   "id": "2fc58083",
   "metadata": {},
   "outputs": [
    {
     "name": "stdout",
     "output_type": "stream",
     "text": [
      "[[0.         0.         0.         0.         0.         0.\n",
      "  0.         0.         0.         0.        ]\n",
      " [0.         0.75029794 0.64681781 0.83364856 0.54007957 0.9107673\n",
      "  0.63442618 0.58203688 0.66743208 0.        ]\n",
      " [0.         0.6086943  0.55483438 1.51925402 1.73372876 1.54893597\n",
      "  1.362053   0.45286852 0.74166982 0.        ]\n",
      " [0.         0.6448411  1.21341783 1.42952085 2.03642232 1.52159867\n",
      "  1.82013931 1.19319209 0.73664004 0.        ]\n",
      " [0.         0.90825416 0.45651978 1.46430376 1.21301397 1.6958242\n",
      "  1.28541808 1.07704921 0.70506217 0.        ]\n",
      " [0.         0.90531578 1.12994674 1.29954654 1.86341104 1.1918167\n",
      "  1.56421484 0.69038018 0.58291366 0.        ]\n",
      " [0.         0.82430659 0.50655168 0.72747633 0.58409898 0.14239233\n",
      "  0.83791854 0.74542265 0.83633292 0.        ]\n",
      " [0.         0.58531023 0.67549603 0.85787949 0.70514364 1.29177148\n",
      "  0.86202008 0.74381146 0.20586192 0.        ]\n",
      " [0.         0.28518585 0.26059833 0.63334536 0.41300922 0.21554965\n",
      "  0.23219088 0.6996295  0.71022749 0.        ]\n",
      " [0.         0.         0.         0.         0.         0.\n",
      "  0.         0.         0.         0.        ]] 2.036422317474443\n"
     ]
    }
   ],
   "source": [
    "print(curvature(lat_B), np.max(curvature(lat_B)))"
   ]
  },
  {
   "cell_type": "code",
   "execution_count": 101,
   "id": "67bcb2fa",
   "metadata": {},
   "outputs": [
    {
     "data": {
      "text/plain": [
       "array([[0.        , 0.        , 0.        , 0.        , 0.        ,\n",
       "        0.        , 0.        , 0.        , 0.        , 0.        ],\n",
       "       [0.        , 0.        , 0.54007957, 0.58203688, 0.63442618,\n",
       "        0.64681781, 0.66743208, 0.75029794, 0.83364856, 0.9107673 ],\n",
       "       [0.        , 0.        , 0.45286852, 0.55483438, 0.6086943 ,\n",
       "        0.74166982, 1.362053  , 1.51925402, 1.54893597, 1.73372876],\n",
       "       [0.        , 0.        , 0.6448411 , 0.73664004, 1.19319209,\n",
       "        1.21341783, 1.42952085, 1.52159867, 1.82013931, 2.03642232],\n",
       "       [0.        , 0.        , 0.45651978, 0.70506217, 0.90825416,\n",
       "        1.07704921, 1.21301397, 1.28541808, 1.46430376, 1.6958242 ],\n",
       "       [0.        , 0.        , 0.58291366, 0.69038018, 0.90531578,\n",
       "        1.12994674, 1.1918167 , 1.29954654, 1.56421484, 1.86341104],\n",
       "       [0.        , 0.        , 0.14239233, 0.50655168, 0.58409898,\n",
       "        0.72747633, 0.74542265, 0.82430659, 0.83633292, 0.83791854],\n",
       "       [0.        , 0.        , 0.20586192, 0.58531023, 0.67549603,\n",
       "        0.70514364, 0.74381146, 0.85787949, 0.86202008, 1.29177148],\n",
       "       [0.        , 0.        , 0.21554965, 0.23219088, 0.26059833,\n",
       "        0.28518585, 0.41300922, 0.63334536, 0.6996295 , 0.71022749],\n",
       "       [0.        , 0.        , 0.        , 0.        , 0.        ,\n",
       "        0.        , 0.        , 0.        , 0.        , 0.        ]])"
      ]
     },
     "execution_count": 101,
     "metadata": {},
     "output_type": "execute_result"
    }
   ],
   "source": [
    "np.sort(curvature(lat_B))"
   ]
  },
  {
   "cell_type": "code",
   "execution_count": null,
   "id": "805d1f38",
   "metadata": {},
   "outputs": [],
   "source": []
  }
 ],
 "metadata": {
  "kernelspec": {
   "display_name": "Python 3",
   "language": "python",
   "name": "python3"
  },
  "language_info": {
   "codemirror_mode": {
    "name": "ipython",
    "version": 3
   },
   "file_extension": ".py",
   "mimetype": "text/x-python",
   "name": "python",
   "nbconvert_exporter": "python",
   "pygments_lexer": "ipython3",
   "version": "3.8.8"
  }
 },
 "nbformat": 4,
 "nbformat_minor": 5
}
