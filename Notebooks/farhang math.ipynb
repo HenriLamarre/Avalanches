{
 "cells": [
  {
   "cell_type": "code",
   "execution_count": 1,
   "id": "92e464ba",
   "metadata": {},
   "outputs": [],
   "source": [
    "import sympy"
   ]
  },
  {
   "cell_type": "code",
   "execution_count": 2,
   "id": "ead2e4d7",
   "metadata": {},
   "outputs": [],
   "source": [
    "Zc, r1, r2, r3, x, Aa_, Ab_, Ac_, Ad_, Ae_ =\\\n",
    "    sympy.symbols('Zc r1 r2 r3 x Aa_ Ab_ Ac_ Ad_ Ae_ ')\n",
    "Af, Ag, Ah, Ai, Aj, Ak, Al, Am =\\\n",
    "    sympy.symbols('Af Ag Ah Ai Aj Ak Al Am')"
   ]
  },
  {
   "cell_type": "code",
   "execution_count": 3,
   "id": "eb2897e2",
   "metadata": {},
   "outputs": [],
   "source": [
    "Aa = Aa_ - 4/5*Zc\n",
    "a = r1+r2+r3\n",
    "Ab = Ab_ + 4/5*r1/(x+a)*Zc\n",
    "Ac = Ac_ + 4/5*r2/(x+a)*Zc\n",
    "Ad = Ad_ + 4/5*r3/(x+a)*Zc\n",
    "Ae = Ae_ + 4/5*x/(x+a)*Zc"
   ]
  },
  {
   "cell_type": "code",
   "execution_count": 5,
   "id": "8ea9231f",
   "metadata": {},
   "outputs": [],
   "source": [
    "Ja = 4*Aa-Ab-Ac-Ad-Ae\n",
    "Jb = 4*Ab-Af-Ag-Ah-Aa\n",
    "Jc = 4*Ac-Ai-Aj-Aa-Ah\n",
    "Jd = 4*Ad-Aj-Ak-Al-Aa\n",
    "Je = 4*Ae-Aa-Al-Am-Af"
   ]
  },
  {
   "cell_type": "code",
   "execution_count": 19,
   "id": "7233134f",
   "metadata": {},
   "outputs": [],
   "source": [
    "DeltaE1=-Ae*Am-Af*Ae-Af*Ab-Ag*Ab-Ah*Ab-Ah*Ac-Ai*Ac-Aj*Ac-Aj*Ad-Ak*Ad-Al*Ad-Al*Ae+Je*Ae+Jb*Ab+Jc*Ac+Jd*Ad+Ja*Aa"
   ]
  },
  {
   "cell_type": "code",
   "execution_count": 20,
   "id": "03289e96",
   "metadata": {},
   "outputs": [
    {
     "data": {
      "text/latex": [
       "$\\displaystyle - 1.0 Af \\left(r_{1} + r_{2} + r_{3}\\right) \\left(r_{1} + r_{2} + r_{3} + x\\right) - 1.0 Al \\left(r_{1} + r_{2} + r_{3}\\right) \\left(r_{1} + r_{2} + r_{3} + x\\right) - 1.0 Am \\left(r_{1} + r_{2} + r_{3}\\right) \\left(r_{1} + r_{2} + r_{3} + x\\right) - 4.0 r_{1} \\left(Ab_{} \\left(r_{1} + r_{2} + r_{3} + x\\right) + 0.8 Zc r_{1}\\right) - 1.0 r_{1} \\left(3.2 Zc r_{1} - \\left(r_{1} + r_{2} + r_{3} + x\\right) \\left(Aa_{} - 4 Ab_{} + Af + Ag + Ah - 0.8 Zc\\right)\\right) - 4.0 r_{2} \\left(Ac_{} \\left(r_{1} + r_{2} + r_{3} + x\\right) + 0.8 Zc r_{2}\\right) - 1.0 r_{2} \\left(3.2 Zc r_{2} - \\left(r_{1} + r_{2} + r_{3} + x\\right) \\left(Aa_{} - 4 Ac_{} + Ah + Ai + Aj - 0.8 Zc\\right)\\right) - 4.0 r_{3} \\left(Ad_{} \\left(r_{1} + r_{2} + r_{3} + x\\right) + 0.8 Zc r_{3}\\right) - 1.0 r_{3} \\left(3.2 Zc r_{3} - \\left(r_{1} + r_{2} + r_{3} + x\\right) \\left(Aa_{} - 4 Ad_{} + Aj + Ak + Al - 0.8 Zc\\right)\\right) + \\left(r_{1} + r_{2} + r_{3}\\right) \\left(4.0 Ae_{} \\left(r_{1} + r_{2} + r_{3} + x\\right) + 6.4 Zc x - 1.0 \\left(r_{1} + r_{2} + r_{3} + x\\right) \\left(Aa_{} - 4 Ae_{} + Af + Al + Am - 0.8 Zc\\right)\\right) + 1.0 \\left(r_{1} + r_{2} + r_{3} + x\\right) \\left(Af r_{1} + Ag r_{1} + Ah r_{1} + Ah r_{2} + Ai r_{2} + Aj r_{2} + Aj r_{3} + Ak r_{3} + Al r_{3}\\right)$"
      ],
      "text/plain": [
       "-1.0*Af*(r1 + r2 + r3)*(r1 + r2 + r3 + x) - 1.0*Al*(r1 + r2 + r3)*(r1 + r2 + r3 + x) - 1.0*Am*(r1 + r2 + r3)*(r1 + r2 + r3 + x) - 4.0*r1*(Ab_*(r1 + r2 + r3 + x) + 0.8*Zc*r1) - 1.0*r1*(3.2*Zc*r1 - (r1 + r2 + r3 + x)*(Aa_ - 4*Ab_ + Af + Ag + Ah - 0.8*Zc)) - 4.0*r2*(Ac_*(r1 + r2 + r3 + x) + 0.8*Zc*r2) - 1.0*r2*(3.2*Zc*r2 - (r1 + r2 + r3 + x)*(Aa_ - 4*Ac_ + Ah + Ai + Aj - 0.8*Zc)) - 4.0*r3*(Ad_*(r1 + r2 + r3 + x) + 0.8*Zc*r3) - 1.0*r3*(3.2*Zc*r3 - (r1 + r2 + r3 + x)*(Aa_ - 4*Ad_ + Aj + Ak + Al - 0.8*Zc)) + (r1 + r2 + r3)*(4.0*Ae_*(r1 + r2 + r3 + x) + 6.4*Zc*x - 1.0*(r1 + r2 + r3 + x)*(Aa_ - 4*Ae_ + Af + Al + Am - 0.8*Zc)) + 1.0*(r1 + r2 + r3 + x)*(Af*r1 + Ag*r1 + Ah*r1 + Ah*r2 + Ai*r2 + Aj*r2 + Aj*r3 + Ak*r3 + Al*r3)"
      ]
     },
     "execution_count": 20,
     "metadata": {},
     "output_type": "execute_result"
    }
   ],
   "source": [
    "sympy.simplify(sympy.diff(DeltaE1, x)*(a+x)**3/Zc/0.8)"
   ]
  },
  {
   "cell_type": "code",
   "execution_count": null,
   "id": "a06ab824",
   "metadata": {},
   "outputs": [],
   "source": []
  }
 ],
 "metadata": {
  "kernelspec": {
   "display_name": "Python 3",
   "language": "python",
   "name": "python3"
  },
  "language_info": {
   "codemirror_mode": {
    "name": "ipython",
    "version": 3
   },
   "file_extension": ".py",
   "mimetype": "text/x-python",
   "name": "python",
   "nbconvert_exporter": "python",
   "pygments_lexer": "ipython3",
   "version": "3.8.8"
  }
 },
 "nbformat": 4,
 "nbformat_minor": 5
}
