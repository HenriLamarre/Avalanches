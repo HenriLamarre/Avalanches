{
 "cells": [
  {
   "cell_type": "code",
   "execution_count": 1,
   "id": "7bab2c9a",
   "metadata": {},
   "outputs": [],
   "source": [
    "import numpy as np\n",
    "import matplotlib.pyplot as plt"
   ]
  },
  {
   "cell_type": "code",
   "execution_count": 30,
   "id": "e8dc25b7",
   "metadata": {},
   "outputs": [],
   "source": [
    "data = np.load('lattice_investigation.npz', allow_pickle=True)['data']"
   ]
  },
  {
   "cell_type": "code",
   "execution_count": 31,
   "id": "ef0a1ddf",
   "metadata": {
    "scrolled": true
   },
   "outputs": [
    {
     "data": {
      "text/plain": [
       "(2,)"
      ]
     },
     "execution_count": 31,
     "metadata": {},
     "output_type": "execute_result"
    }
   ],
   "source": [
    "data.shape"
   ]
  },
  {
   "cell_type": "code",
   "execution_count": 57,
   "id": "2c8f98f1",
   "metadata": {},
   "outputs": [
    {
     "name": "stdout",
     "output_type": "stream",
     "text": [
      "-5.38324853045494\n",
      "-5.38013140424521\n",
      "-5.464446045759516\n",
      "-5.738285278526325\n",
      "-6.181194567190851\n",
      "-6.850329229553305\n",
      "-6.274294114589603\n",
      "-5.5827988134669795\n",
      "-5.070164476877308\n",
      "-5.898710043266225\n"
     ]
    }
   ],
   "source": [
    "for i in range(10):\n",
    "    print(np.random.uniform(-7,-5))"
   ]
  },
  {
   "cell_type": "code",
   "execution_count": 4,
   "id": "e012e325",
   "metadata": {},
   "outputs": [
    {
     "data": {
      "text/plain": [
       "7.490206405662238"
      ]
     },
     "execution_count": 4,
     "metadata": {},
     "output_type": "execute_result"
    },
    {
     "data": {
      "image/png": "[encoded data removed]",
      "text/plain": [
       "<Figure size 288x288 with 2 Axes>"
      ]
     },
     "metadata": {
      "needs_background": "light"
     },
     "output_type": "display_data"
    }
   ],
   "source": [
    "data = np.load('Saves/N32_Deterministic.npz')['lat_B']\n",
    "plt.matshow(data)\n",
    "plt.colorbar()\n",
    "curv = np.zeros((32, 32))  # curvature of the lattice initialization\n",
    "curv[1:-1, 1:-1] = data[1:-1, 1:-1] - 1 / 4 * (data[1:-1, 0:-2] + data[1:-1, 2:] +\n",
    "                                                             data[0:-2, 1:-1] + data[2:, 1:-1])\n",
    "np.max(curv)"
   ]
  },
  {
   "cell_type": "code",
   "execution_count": 3,
   "id": "221dcfe7",
   "metadata": {},
   "outputs": [
    {
     "data": {
      "text/plain": [
       "array([[  0.        ,   0.        ,   0.        , ...,   0.        ,\n",
       "          0.        ,   0.        ],\n",
       "       [  0.        ,  -3.11863644,  -1.64785231, ...,   0.4763075 ,\n",
       "         -0.64699522,   0.        ],\n",
       "       [  0.        ,  -0.59027279,  -0.65061004, ...,   0.17226231,\n",
       "         -1.7234781 ,   0.        ],\n",
       "       ...,\n",
       "       [  0.        ,  -8.34457325,  -7.22438629, ...,  -4.18931774,\n",
       "         -4.891857  ,   0.        ],\n",
       "       [  0.        ,  -4.4342844 ,  -6.86280992, ..., -12.88734654,\n",
       "         -5.73942654,   0.        ],\n",
       "       [  0.        ,   0.        ,   0.        , ...,   0.        ,\n",
       "          0.        ,   0.        ]])"
      ]
     },
     "execution_count": 3,
     "metadata": {},
     "output_type": "execute_result"
    }
   ],
   "source": [
    "data"
   ]
  },
  {
   "cell_type": "code",
   "execution_count": null,
   "id": "5ece9bd7",
   "metadata": {},
   "outputs": [],
   "source": []
  }
 ],
 "metadata": {
  "kernelspec": {
   "display_name": "Python 3",
   "language": "python",
   "name": "python3"
  },
  "language_info": {
   "codemirror_mode": {
    "name": "ipython",
    "version": 3
   },
   "file_extension": ".py",
   "mimetype": "text/x-python",
   "name": "python",
   "nbconvert_exporter": "python",
   "pygments_lexer": "ipython3",
   "version": "3.8.8"
  }
 },
 "nbformat": 4,
 "nbformat_minor": 5
}
