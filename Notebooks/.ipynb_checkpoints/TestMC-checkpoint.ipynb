{
 "cells": [
  {
   "cell_type": "code",
   "execution_count": 1,
   "id": "3f9b5fc9",
   "metadata": {},
   "outputs": [],
   "source": [
    "import numpy as np\n",
    "import matplotlib.pyplot as plt"
   ]
  },
  {
   "cell_type": "code",
   "execution_count": 2,
   "id": "f831e069",
   "metadata": {},
   "outputs": [],
   "source": [
    "data = np.load('Saves/N10_Farhang_MC.npz')['lat_B']"
   ]
  },
  {
   "cell_type": "code",
   "execution_count": 3,
   "id": "0cc8ca6b",
   "metadata": {},
   "outputs": [
    {
     "data": {
      "text/plain": [
       "<matplotlib.image.AxesImage at 0x7f57651ff220>"
      ]
     },
     "execution_count": 3,
     "metadata": {},
     "output_type": "execute_result"
    },
    {
     "data": {
      "image/png": "[encoded data removed]",
      "text/plain": [
       "<Figure size 288x288 with 1 Axes>"
      ]
     },
     "metadata": {
      "needs_background": "light"
     },
     "output_type": "display_data"
    }
   ],
   "source": [
    "plt.matshow(data)"
   ]
  },
  {
   "cell_type": "code",
   "execution_count": 4,
   "id": "26daaaa2",
   "metadata": {},
   "outputs": [],
   "source": [
    "curv = np.zeros((10,10))  # curvature of the lattice initialization\n",
    "curv[1:-1, 1:-1] = data[1:-1, 1:-1] - 1 / 4 * (data[1:-1, 0:-2] + data[1:-1, 2:] +\n",
    "                            data[0:-2, 1:-1] + data[2:, 1:-1])  # curvature computation"
   ]
  },
  {
   "cell_type": "code",
   "execution_count": 5,
   "id": "07742dfa",
   "metadata": {},
   "outputs": [
    {
     "data": {
      "text/plain": [
       "<matplotlib.image.AxesImage at 0x7f576516d730>"
      ]
     },
     "execution_count": 5,
     "metadata": {},
     "output_type": "execute_result"
    },
    {
     "data": {
      "image/png": "[encoded data removed]",
      "text/plain": [
       "<Figure size 288x288 with 1 Axes>"
      ]
     },
     "metadata": {
      "needs_background": "light"
     },
     "output_type": "display_data"
    }
   ],
   "source": [
    "plt.matshow(curv)"
   ]
  },
  {
   "cell_type": "code",
   "execution_count": 6,
   "id": "6af88267",
   "metadata": {},
   "outputs": [],
   "source": [
    "def e_current(lattice):\n",
    "    \"\"\" Returns the total energy of a specified lattice \"\"\"\n",
    "    return np.sum(1/2*np.multiply(lattice[1:-1, 1:-1],\n",
    "                                  4*lattice[1:-1, 1:-1] - lattice[1:-1, :-2] -\n",
    "                                  lattice[2:, 1:-1] - lattice[1:-1, 2:] - lattice[:-2, 1:-1]))\n",
    "def e_A2(lattice):\n",
    "    return np.sum(lattice**2)"
   ]
  },
  {
   "cell_type": "code",
   "execution_count": 7,
   "id": "5b41b2e8",
   "metadata": {},
   "outputs": [
    {
     "name": "stdout",
     "output_type": "stream",
     "text": [
      "7.865341373338852 63.02457920300115\n"
     ]
    }
   ],
   "source": [
    "print(e_current(data), e_A2(data))"
   ]
  },
  {
   "cell_type": "code",
   "execution_count": 8,
   "id": "085febc7",
   "metadata": {},
   "outputs": [],
   "source": [
    "Zc = 0.01\n",
    "i,j = 3,4\n",
    "rs = np.random.uniform(0, 1, size=(4, 1))\n",
    "a=np.sum(rs)\n",
    "data[i, j] -= 4 / 5 * Zc\n",
    "data[i - 1, j] += 4 / 5 * rs[0] / a * Zc\n",
    "data[i + 1, j] += 4 / 5 * rs[2] / a * Zc\n",
    "data[i, j - 1] += 4 / 5 * rs[3] / a * Zc\n",
    "data[i, j + 1] += 4 / 5 * rs[1] / a * Zc"
   ]
  },
  {
   "cell_type": "code",
   "execution_count": 9,
   "id": "fba349b6",
   "metadata": {},
   "outputs": [
    {
     "data": {
      "text/plain": [
       "<matplotlib.image.AxesImage at 0x7f57650d1160>"
      ]
     },
     "execution_count": 9,
     "metadata": {},
     "output_type": "execute_result"
    },
    {
     "data": {
      "image/png": "[encoded data removed]",
      "text/plain": [
       "<Figure size 288x288 with 1 Axes>"
      ]
     },
     "metadata": {
      "needs_background": "light"
     },
     "output_type": "display_data"
    }
   ],
   "source": [
    "plt.matshow(data)"
   ]
  },
  {
   "cell_type": "code",
   "execution_count": 10,
   "id": "016a2367",
   "metadata": {},
   "outputs": [
    {
     "name": "stdout",
     "output_type": "stream",
     "text": [
      "7.865593891749216 63.02455229923499\n"
     ]
    }
   ],
   "source": [
    "print(e_current(data), e_A2(data))"
   ]
  },
  {
   "cell_type": "code",
   "execution_count": null,
   "id": "93eae9e5",
   "metadata": {},
   "outputs": [],
   "source": []
  }
 ],
 "metadata": {
  "kernelspec": {
   "display_name": "Python 3 (ipykernel)",
   "language": "python",
   "name": "python3"
  },
  "language_info": {
   "codemirror_mode": {
    "name": "ipython",
    "version": 3
   },
   "file_extension": ".py",
   "mimetype": "text/x-python",
   "name": "python",
   "nbconvert_exporter": "python",
   "pygments_lexer": "ipython3",
   "version": "3.8.8"
  }
 },
 "nbformat": 4,
 "nbformat_minor": 5
}
